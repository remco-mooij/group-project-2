version https://git-lfs.github.com/spec/v1
oid sha256:1f5595e68b62d9ab359f2621e45831a2311201ca6b350a32f1f03c94b006cf0d
size 568702
