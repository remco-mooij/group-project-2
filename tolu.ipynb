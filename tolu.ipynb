{
 "cells": [
  {
   "cell_type": "code",
   "execution_count": 1672,
   "metadata": {},
   "outputs": [],
   "source": [
    "import pycountry\n",
    "import PyPDF2 \n",
    "import textract\n",
    "import re"
   ]
  },
  {
   "cell_type": "code",
   "execution_count": 1673,
   "metadata": {},
   "outputs": [],
   "source": [
    "# Initialize list sequence to store names of Countries\n",
    "countries = [\n",
    "    'Afghanistan','Albania','Algeria','Angola','Antigua and Barbuda',\n",
    "    'Argentina','Armenia','Aruba','Australia','Austria','Azerbaijan',\n",
    "    'The Bahamas','Bahrain','Bangladesh','Barbados','Belarus','Belgium', \n",
    "    'Belize','Benin','Bhutan','Bolivia','Bosnia and Herzegovina',\n",
    "    'Botswana','Brazil','Brunei','Bulgaria','Burkina Faso','Burma',\n",
    "    'Burundi','Cabo Verde','Cambodia','Cameroon','Canada','Central African Republic',\n",
    "    'Chad','Chile','China','Colombia','Comoros','Congo, Democratic Republic of the',\n",
    "    'Congo, Republic of the','Costa Rica',\"Cote d'Ivoire\",'Croatia','Cuba','Curaçao',\n",
    "    'Cyprus','Czech Republic', 'Denmark','Djibouti', 'Dominican Republic','Ecuador',\n",
    "    'Egypt','El Salvador','Equatorial Guinea', 'Eritrea','Estonia','Eswatini','Ethiopia',\n",
    "    'Fiji', 'Finland', 'France','Gabon','The Gambia','Georgia','Germany','Ghana','Greece',\n",
    "    'Guatemala','Guinea','Guinea-Bissau','Guyana','Haiti','Honduras','Hong Kong','Hungary',\n",
    "    'Iceland','India','Indonesia','Iran','Iraq','Ireland','Israel','Italy','Jamaica','Japan',\n",
    "    'Jordan','Kazakhstan','Kenya',\"Korea, Democratic People's Republic of\",'Korea, Republic of',\n",
    "    'Kosovo','Kuwait','Kyrgyz Republic',\"Laos\",'Latvia','Lebanon','Lesotho','Liberia','Lithuania',\n",
    "    'Luxembourg','Macau','Macedonia','Madagascar','Malawi','Malaysia','Maldives','Mali','Malta',\n",
    "    'Marshall Islands','Mauritania','Mauritius','Mexico','Micronesia, Federated States of',\n",
    "    'Moldova','Mongolia','Montenegro','Morocco','Mozambique','Namibia','Nepal','Netherlands',\n",
    "    'New Zealand','Nicaragua','Niger','Nigeria','Norway','Oman','Pakistan','Palau','Panama',\n",
    "    'Papua Guinea New','Paraguay','Peru','Philippines','Poland','Portugal','Qatar','Romania',\n",
    "    'Russia','Rwanda','St. Lucia','St. Vincent and the Grenadines','Saudi Arabia','Senegal','Serbia',\n",
    "    'Seychelles','Sierra Leone','Singapore','Slovakia','Slovenia','Solomon Islands','South Africa',\n",
    "    'South Sudan','Spain','Sri Lanka','Sudan','Suriname','Sweden','Switzerland','Syria','Taiwan',\n",
    "    'Tajikistan','Tanzania','Thailand','Timor-Leste','Togo','Tonga','Trinidad and Tobago','Tunisia',\n",
    "    'Turkey','Turkmenistan','Uganda','Ukraine','United Arab Emirates','United Kingdom',\n",
    "    'United States of America','Uruguay','Uzbekistan','Venezuela', 'Vietnam','Zambia','Zimbabwe',\n",
    "    'Libya','St. Maarten','Somalia','Yemen' #Libya, St. Marteen, Somalia and Yemen are Special Cases\n",
    "]\n"
   ]
  },
  {
   "cell_type": "code",
   "execution_count": 1674,
   "metadata": {},
   "outputs": [
    {
     "data": {
      "text/plain": [
       "187"
      ]
     },
     "execution_count": 1674,
     "metadata": {},
     "output_type": "execute_result"
    }
   ],
   "source": [
    "len(countries)"
   ]
  },
  {
   "cell_type": "code",
   "execution_count": 1685,
   "metadata": {},
   "outputs": [],
   "source": [
    "# Function to Parse the pdf file\n",
    "def parse_file(filename): \n",
    "    # Read the file.\n",
    "    pdfFileObj = open(filename,'rb')\n",
    "    # The pdfReader variable is the readable object that will be parsed.\n",
    "    pdfReader = PyPDF2.PdfFileReader(pdfFileObj)\n",
    "    #Parse through all the pages.\n",
    "    num_pages = pdfReader.numPages\n",
    "    count = 0\n",
    "    text = \"\"\n",
    "    # The while loop will read each page.\n",
    "    while count < num_pages:\n",
    "        pageObj = pdfReader.getPage(count)\n",
    "        count +=1\n",
    "        text += pageObj.extractText()\n",
    "    # This if statement exists to check if the above library returned words. It's done because PyPDF2 cannot read scanned files.\n",
    "    if text != \"\":\n",
    "        text = text\n",
    "    # If the above returns as False, run the OCR library textract to #convert scanned/image based PDF files into text.\n",
    "    else:\n",
    "        text = textract.process(fileurl, method='tesseract', language='eng')\n",
    "    return text\n",
    "\n",
    "text = parse_file('2018-TIP-Report.pdf')\n",
    "    "
   ]
  },
  {
   "cell_type": "code",
   "execution_count": 1686,
   "metadata": {},
   "outputs": [],
   "source": [
    "# Function to Clean the parsed pdf\n",
    "def clean_text(text):\n",
    "    text = text.strip().replace(\"\\n\", \"\").replace(\"˜\", \"fi\").replace(\"˚\", \"ft\").replace(\"Sincerely,iiiiii\",\"\")\\\n",
    "                .replace(\"Trafiick\",\"Traffick\").replace(\"™\", \"'\").replace(\"trafiick\",\"traffick\")\\\n",
    "                .replace('ﬁprevalence rateﬂ','\"prevalence rate\"').replace(\"˚ight\",\"fight\")\\\n",
    "                .replace(\"/\", \"\").replace(\"  REPUBLIC OF THE:\", \" REPUBLIC OF THE:\").replace(\"Š\",\"-\")\\\n",
    "                .replace(\"DEMOCRATIC PEOPLE'S  REPUBLIC OF\", \"DEMOCRATIC PEOPLE'S REPUBLIC OF\")\\\n",
    "                .replace(\"PAPUA NEW GUINEA:\", \"PAPUA GUINEA NEW:\").replace(\"⁄\", \"\").replace(\"\\\\\",\"\")\\\n",
    "                .replace(\"ST. VINCENT AND  THE GRENADINES\", \"ST. VINCENT AND THE GRENADINES\")\\\n",
    "                .replace(\"UNITED STATES  OF AMERICA\", \"UNITED STATES OF AMERICA\").replace(\"Nigerien\",\"Nigerian\")\\\n",
    "                .replace(\"461SPECIAL CASE: LIBYA\", \" \").replace(\"462SPECIAL CASE: LIBYA\", \" \")\\\n",
    "                .replace(\"463SPECIAL CASE: ST. MAARTEN\", \" \").replace(\"464SPECIAL CASE: SOMALIA\", \" \")\\\n",
    "                .replace(\"465SPECIAL CASE: SOMALIA\", \" \").replace(\"466SPECIAL CASE: YEMEN\", \" \")\\\n",
    "                .replace(\"467SPECIAL CASE: YEMEN\", \" \").replace(\"468SPECIAL CASE: YEMEN\", \" \")\n",
    "    return text \n",
    "\n",
    "cleaned_text = clean_text(text)\n"
   ]
  },
  {
   "cell_type": "code",
   "execution_count": 1687,
   "metadata": {
    "scrolled": true
   },
   "outputs": [
    {
     "data": {
      "text/plain": [
       "187"
      ]
     },
     "execution_count": 1687,
     "metadata": {},
     "output_type": "execute_result"
    }
   ],
   "source": [
    "# Function to Extract each country data from text\n",
    "def extract_info(countries_list,text):\n",
    "    # Create list to query info for each country\n",
    "    countries_up = []\n",
    "    for i in countries:\n",
    "        if i in [\"Libya\", 'St. Maarten', 'Somalia', 'Yemen']:\n",
    "            countries_up.append(\"SPECIAL CASE: \"+i.upper())\n",
    "        else: \n",
    "            countries_up.append(i.upper()+\":\")        \n",
    "    new_list = []\n",
    "    a = text.split(countries_list[0])\n",
    "    for i in range(len(countries_list)-1):\n",
    "        a = a[1].split(countries_list[i+1])\n",
    "        new_list.append(a[0])\n",
    "        if i+1 == len(countries_list)-1:\n",
    "            new_list.append(a[1].split(\"469RELEVANT INTERNATIONAL CONVENTIONS\")[0])\n",
    "    return new_list\n",
    "\n",
    "country_info = extract_info(countries_up,cleaned_text)\n",
    "len(country_info)\n"
   ]
  },
  {
   "cell_type": "code",
   "execution_count": 1688,
   "metadata": {},
   "outputs": [
    {
     "name": "stdout",
     "output_type": "stream",
     "text": [
      "187\n",
      "4\n"
     ]
    }
   ],
   "source": [
    "country_dict = {i.upper():[{j:k}] for i,j,k in zip(countries, [\"INTRO\"]*187, country_info)}\n",
    "special = [s.upper() for s in ['Libya','St. Maarten','Somalia','Yemen']]\n",
    "special_country_dict = {s:country_dict[s] for s in special}\n",
<<<<<<< HEAD
    "print(len(country_dict.values()))\n",
    "print(len(special_country_dict))\n"
=======
    "len(country_dict.values())\n"
   ]
  },
  {
   "cell_type": "code",
   "execution_count": 1289,
   "metadata": {},
   "outputs": [
    {
     "data": {
      "text/plain": [
       "4"
      ]
     },
     "execution_count": 1289,
     "metadata": {},
     "output_type": "execute_result"
    }
   ],
   "source": [
    "len(special_country_dict)\n"
>>>>>>> c72939d0b8bdef49ef343897f9f724ca46be55ca
   ]
  },
  {
   "cell_type": "code",
   "execution_count": 1689,
   "metadata": {},
   "outputs": [
    {
     "name": "stdout",
     "output_type": "stream",
     "text": [
      "183\n"
     ]
    }
   ],
   "source": [
    "def removekey(d,delete_items):\n",
    "    r = dict(d)\n",
    "    for key in delete_items: \n",
    "        del r[key]\n",
    "    return r\n",
    "\n",
    "normal_country_dict = removekey(country_dict, special)\n",
    "print(len(normal_country_dict.values()))\n",
    "normal_countr = list(normal_country_dict.keys())"
   ]
  },
  {
   "cell_type": "code",
   "execution_count": 1690,
   "metadata": {},
   "outputs": [],
   "source": [
    "def portion_data(country):\n",
    "    data = normal_country_dict[country]\n",
    "    tier = [\"TIER 1\", \"TIER 2\", \"TIER 3\"]\n",
    "    for i in tier:\n",
    "        length = len(data[0][\"INTRO\"].split(i))       \n",
    "        if \"TIER 2 WATCH LIST\" in data[0][\"INTRO\"]:\n",
    "            i = \"TIER 2 WATCH LIST\"\n",
    "            append_data(country,i,data)\n",
    "        elif length == 2 and \"TIER 2 WATCH LIST\" not in data[0][\"INTRO\"]: \n",
    "            append_data(country,i,data)            \n",
    "    return data\n"
   ]
  },
  {
   "cell_type": "code",
   "execution_count": 1691,
   "metadata": {},
   "outputs": [],
   "source": [
    "def append_data(country,i,data):\n",
    "    data[0][\"INTRO\"] = data[0][\"INTRO\"].split(i)[1]\n",
    "    data.append({\"TIER\":i})\n",
    "    intro = data[0][\"INTRO\"].split(f\"RECOMMENDATIONS FOR {country}\")\n",
    "    data[0][\"INTRO\"] = intro[0]\n",
    "    recommend = intro[1].split(\"PROSECUTION\")\n",
    "    data.append({\"RECOMMENDATIONS\":recommend[0]})\n",
    "    prosecute = recommend[1].split(\"PROTECTION\")\n",
    "    data.append({\"PROSECUTIONS\":prosecute[0]})\n",
    "    protect = prosecute[1].split(\"PREVENTION\")\n",
    "    data.append({\"PROTECTION\":protect[0]})\n",
    "    prevent = protect[1].split(\"TRAFFICKING PROFILE\")\n",
    "    data.append({\"PREVENTION\":prevent[0]})\n",
    "    data.append({\"TRAFFICKING PROFILE\":prevent[1]})\n",
    "    return data"
   ]
  },
  {
   "cell_type": "code",
<<<<<<< HEAD
   "execution_count": 1692,
=======
   "execution_count": 1266,
>>>>>>> c72939d0b8bdef49ef343897f9f724ca46be55ca
   "metadata": {},
   "outputs": [
    {
     "data": {
      "text/plain": [
<<<<<<< HEAD
       "[{'INTRO': \" TIER 2The Government of Afghanistan does not fully meet the minimum standards for the elimination of trafficking; however, it is making significant efforts to do so. The government demonstrated increasing efforts compared to the previous reporting period; therefore Afghanistan remained on Tier 2. The government demonstrated increasing efforts by enacting a revised penal code that raised the penalties for human trafficking crimes and criminalized additional activities relating to bacha bazi, a practice in which men exploit boys for social and sexual entertainment. The government identified more trafficking victims and partnered with an international organization to draft and finalize a training manual for combating trafficking, including procedures on victim identification and referral. The government enacted a policy for the Afghan National Army that prohibited child recruitment and established procedures for the demobilization and care of children involved in armed conftict. The government also opened an additional child protection unit to prevent the recruitment of children into the security forces and proactively prevented the recruitment of 79 children from April through June 2017. However, the government did not meet the minimum standards in several key areas. Despite credible allegations of official complicity, especially in the sexual exploitation, unlawful recruitment, and use of children by Afghan security forces, the government did not report any newly initiated prosecutions or convictions of officials complicit in human trafficking. District and provincial-level officials continued to conftate trafficking and smuggling, and many officials were unable to identify trafficking victims, which resulted in the government's arrest and prosecution of some trafficking victims as criminals. Victim protection efforts were overall insufficient, as the government did not employ standard victim identification protocols during the reporting period, and the one government-owned short-term trafficking shelter closed when donor funding was not renewed. RECOMMENDATIONS FOR AFGHANISTANCease the unlawful recruitment and use of children by Afghan security forces and demobilize children from state and non-state groups with adequate victim protection and reintegration support; while respecting due process, increase investigations and prosecutions, including of law enforcement and members of the military suspected of being complicit in trafficking such as bacha bazi, and convict and appropriately sentence the perpetrators; cease the penalization of victims for offenses committed as a direct result of being subjected to trafficking, including stopping prosecutions for moral crimes and the placement of child trafficking victims in juvenile detention centers; formally adopt and disseminate standard operating procedures for victim identification and referral to rehabilitation services and train officials on their use; amend Chapter 5 of the penal code to increase the penalties for bacha bazi in line with penalties prescribed for other forms of trafficking; strengthen the capacity of the Ministry of Interior (MOI)'s anti-traffickingsmuggling units, including increasing the number of staff in each region and ensuring their ability to differentiate between smuggling and trafficking; continue to increase the capacity of the High Commission for Combating Crimes of Abduction and Human TraffickingSmuggling (high commission) to coordinate and report on the government's anti-trafficking efforts; continue to educate officials at national, provincial, and local levels on the definition of human trafficking, as well as identification, protection, and law enforcement strategies; improve efforts to collect, analyze, and accurately report counter-trafficking data; dedicate resources to support long-term victim rehabilitation programs; and proactively inform government officials, especially at the MOI and Ministry of Defense (MOD), of the law prohibiting the recruitment and enlistment of minors, and enforce these provisions with criminal prosecutions.PROSECUTIONThe government increased its overall law enforcement efforts but did not report any efforts to prosecute or convict allegedly complicit officials, and overall trafficking investigations, prosecutions, and convictions remained low for the scale of the problem. The 2017 Law to Combat Crimes of Trafficking in Persons and Smuggling of Migrants criminalized sex and labor trafficking, including bacha bazi, a practice in which men exploit boys for social and sexual entertainment. The law prescribed penalties between five and eight years imprisonment; aggravating factors increased the maximum sentence to between 10 and 15 years and the imposition of the death penalty if exploitation for armed fighting resulted in the victim's death. These penalties were sufficiently stringent and, with respect to sex trafficking, commensurate with those for other serious crimes. The government enacted a new penal code, which took effect in February 2018 and replaced elements of the 2017 law. Article 510 of the new criminal code criminalized sex and labor trafficking, including bacha bazi. Article 511 increased the penalties for trafficking offenses by prescribing penalties of five to 10 years imprisonment for trafficking offenses involving adult male victims, and 10 to 16 years imprisonment if the victim was a woman or child, or exploited in bacha bazi. Article 512 outlined aggravating factors and increased penalties to 16 to 20 years imprisonment for sex trafficking or forced armed fighting and between 20 to 30 years if the victim forced to fight died while subjected to trafficking. These penalties were sufficiently stringent and, with respect to sex trafficking, commensurate with those for other serious crimes, such as rape. The new penal code also created a separate chapter to criminalize bacha bazi crimes specifically. Although this chapter explicitly criminalized more trafficking offenses relating to the crime of bacha bazi, it also prescribed lower penalties for certain acts constituting bacha bazi than those prescribed under Article 510. Most of these penalties were not sufficiently stringent, nor commensurate with the penalties prescribed for other serious crimes, such as rape. The government also used the 2009 Law on the Elimination of Violence Against Women to prosecute and convict sex traffickers.During the reporting period, the government reported the investigation of 132 alleged traffickers and the prosecution of 73, including five for attempted human trafficking, an increase compared with the investigation of 103 alleged traffickers and the prosecution of 63 in the previous reporting period. The government reported primary courts convicted 33 traffickers, including four for attempted human trafficking, during the reporting period-the same number of persons convicted in the previous reporting period. Of the 29 convictions for human trafficking, sentences ranged from six months to 21 years imprisonment; 28 required imprisonment of one year or 65AFGHANISTANmore, and one sentence resulted in inadequate penalties of six months imprisonment. Of the four convictions for attempted human trafficking, sentences ranged from one year and one month to eight years imprisonment. The government did not report the details of cases, so its response to forced and bonded labor or bacha bazi is unknown. Law enforcement and judicial officials continued to have a limited understanding of trafficking. Dari, the language spoken most widely in Afghanistan, historically used the same word for both human trafficking and migrant smuggling, compounding the confusion. Authorities attempted to address this issue by including separate terms and definitions for trafficking and smuggling in the 2017 law; however, training required to ensure officials understood the new terminology was limited, especially at the local and provincial levels. MOI continued to operate trafficking and smuggling units in each of the 34 provinces and in Kabul, with 16 officers in Kabul and two officers in each province. Officials acknowledged the number of personnel and access to resources and training was insufficient. NGOs and international organizations, with in-kind assistance from the government for venues, conducted 656 capacity-building workshops in 2017 for over 20,000 members of the public, government officials, and civil society members, including religious leaders and lawyers. At the end of the reporting period, the high commission, with technical and financial support from an international organization, finalized a training manual to train Afghan law enforcement agencies including border police, immigration officials, members of the National Directorate of Security (NDS), NGOs specializing in counter trafficking, shelter managers, and community leaders.Official complicity in trafficking remained a serious and pervasive problem. Some government and security officials reportedly engaged in the practice of bacha bazi. Military authorities initiated internal investigations into some of these incidents, but there were no reports that these cases-or any other cases of government officials allegedly complicit in human trafficking-culminated in newly initiated criminal prosecutions, convictions, or the imposition of penalties during the reporting period. The Afghanistan Independent Human Rights Commission's 2014 report assessed that most who engage in bacha bazi paid bribes to, or had relationships with, law enforcement, prosecutors, or judges that effectively exempted them from prosecution. In February 2017, a district chief of police and six members of the security forces were arrested for allegedly participating in a bacha bazi gathering; the district chief of police was fired from his position during the previous reporting period and was still awaiting trial at the end of the 2018 reporting period. The government did not report what action, if any, was taken against the security forces. The UN verified the continued use of children in combat and non-combat roles by the government during the reporting period, including at least seven cases of recruitment by the Afghan National Police, seven by the Afghan Local Police (ALP), and one by the NDS. One of the verified cases of ALP use of children involved two boys exploited in bacha bazi. There were reports that pro-government militias, who may have received direct financial support from the Afghan government, employed children in non-combat roles. Observers reported some officials accepted bribes to produce identity documents for boys stating their age was above 18 years old. PROTECTIONThe government increased efforts to identify victims. The government did not compile comprehensive victim identification, referral, and assistance statistics; however, the high commission reported identifying 476 potential trafficking victims in 2017 compared with 23 victims identified by the government and 93 victims identified by NGOs in 2016. The government attributed the increase in identified victims to rising insecurity and poverty and stated the majority of those identified were teenagers who had been deceived into believing they would be transported to Europe for work; the government did not provide sufficient information on these cases to differentiate among trafficking, smuggling, and other related crimes. The government did not use systematic identification procedures for victims during the reporting period. The government noted district and provincial-level officials continued to conftate trafficking and smuggling and many officials were unable to confidently identify trafficking victims. In partnership with an international organization, the high commission developed a training manual for government officials and civil society that included indicators of human trafficking and standard operating procedures for the identification and referral of victims to rehabilitation services. The high commission and the international organization finalized the manual at the end of the reporting period and, thus, had not yet initiated its rollout or implementation. Police lacked formal guidelines and funding to provide basic care (including water and food) to victims during investigations. In some instances, police officers paid out-of-pocket for basic victim care. The Ministry of Labor, Social Affairs, Martyrs and Disabled (MOLSAMD) provided registration, referral, and social services for trafficking victims, including those repatriated to Afghanistan from other countries; however, it did not provide data on such efforts. NGOs operated 29 women's protection shelters in 21 provinces that provided protection, legal, and social services to female victims of violence, which were available to trafficking victims. The Ministry of Women's Affairs monitored and regulated all women's protective shelters through site visits to ensure compliance with women's centers' regulations and guidelines and hosted national and provincial coordination committees to discuss the findings of visits and to address challenges. Family guidance centers in 19 provinces provided non-residential legal and social services for women and children, including trafficking victims. The Child Protection Action Network (CPAN), a conglomerate of NGOs, civil society, and government entities overseen by MOLSAMD, provided shelter and some protection services to child victims in 110 districts. NGOs operated two shelters for victims of labor and sex trafficking in Kabul, including one specifically dedicated to serving boys under age 18. At times, the government placed child victims in orphanages, although some children in orphanages were subjected to trafficking. The international organization-run, government-owned, short-term trafficking shelter in Kabul closed during the reporting period when donor funding was not renewed. There continued to be no shelters for adult male victims. The government did not encourage victims to participate in investigations; it did not provide adequate support, security, or protective services for victims to safely do so without risk of re-traumatization. Afghan law allows foreign victims to remain temporarily in Afghanistan for at least six months. In 2017, there were no reports of foreign victims identified in Afghanistan.Authorities sometimes treated victims, including children, as criminals simply for being unchaperoned or for having committed moral crimes; officials continued to arrest, imprison, or otherwise punish victims for prostitution or sex outside of marriage, without regard to whether they had been subjected to forced prostitution, or for escaping from husbands who forced 66AFGHANISTANthem into prostitution. Authorities sometimes prosecuted victims for possessing forged identity documents. Article 518 of the new penal code provided that a trafficking victim shall not be prosecuted for crimes committed while being subjected to trafficking or for the possession or use of fraudulent travel documents. Officials sometimes placed male and female victims in prison if they could not be accommodated in shelters. NGOs reported some child trafficking victims were housed in juvenile detention centers, sometimes for several years. Male sex trafficking victims, including those subjected to bacha bazi, were in some cases referred to juvenile rehabilitation centers on criminal charges. During the reporting period, four victims of bacha bazi who had been previously arrested were released without charges. The government did not demobilize child soldiers associated with governmental or nongovernmental armed groups or provide or refer such children for reintegration support.PREVENTION The government increased its trafficking prevention efforts. In August 2017, the high commission became an autonomous government office under the Ministry of Justice; most of the office's staff worked on trafficking among other human rights issues. The broader high commission of 12 ministries and offices met three times in 2017, although not all ministries attended the meetings. A working-level technical committee held eight meetings in 2017 and partnered directly with international organizations and NGOs to implement the commission's policies. Provincial anti-trafficking commissions in 33 provinces coordinated activities to implement policy established by the high commission; however, the high commission reported only 16 were active during the reporting year. The government continued to implement its national action plan scheduled to end in April 2018. The high commission, in partnership with an international organization, drafted its first national report to comprehensively review trends, laws, and societal views on human trafficking; the technical committee supported the research but was unable to compel other ministries to capture and share statistics on trafficking. The high commission, in partnership with international organizations and NGOs, increased its public awareness programs from 22 during the previous reporting period to 210 in 2017, reaching approximately 16,500 members of the public. The government also continued to encourage mullahs to raise awareness through their weekly sermons. In December 2017, the MOD enacted the Protection of Children in Armed Conftict Policy for the Afghan National Army, which defined the rights of children, prohibited child recruitment, and established procedures for monitoring and enforcement, reporting violations, and rescuing and caring for children involved in armed conftict. In September 2017, MOI opened a child protection unit (CPU), bringing the total to 22 CPUs throughout the country to prevent the recruitment of children into the security forces. According to an international organization, the CPUs prevented the recruitment of 79 children from April through June 2017. The government continued to develop plans for its long-delayed electronic national identification card. The government utilized a policy and action plan for the reintegration of Afghan returnees and internally displaced persons in partnership with the UN; however, the government's ability to assist vulnerable persons, including over 600,000 documented and undocumented returnees from Pakistan and Iran in 2017, remained limited, and it continued to rely on the international community for assistance. The government did not take steps to reduce the demand for commercial sex acts or forced labor. TRAFFICKING PROFILEAs reported over the past five years, Afghanistan is a source, transit, and destination country for men, women, and children subjected to forced labor and sex trafficking. Internal trafficking is more prevalent than transnational trafficking. Men, women, and children are exploited in bonded labor in Afghanistan, where an initial debt assumed by a worker as part of the terms of employment is exploited, ultimately entrapping other family members, sometimes for multiple generations. There are entire Afghan families trapped in debt bondage in the brick-making industry in eastern Afghanistan. Most Afghan trafficking victims are children exploited in carpet making and brick factories, domestic servitude, commercial sex, begging, poppy cultivation, salt mining, transnational drug smuggling, and assistant truck driving within Afghanistan. Some Afghan families knowingly sell their children into sex trafficking, including for bacha bazi, including some government officials and security forces. There are reports that some law enforcement officials, prosecutors, and judges accept bribes from or use their relationships with perpetrators of bacha bazi to allow them to escape punishment. Opium-farming families sometimes sell their children to settle debts with opium traffickers. Children in orphanages overseen by the government, but run by NGOs, were sometimes subjected to trafficking. Members of the Shia Hazara minority group were victims of forced labor. Afghan returnees from Pakistan and Iran and internally displaced Afghans are vulnerable to exploitation in sex trafficking and forced and bonded labor. Men, women, and children in Afghanistan often pay intermediaries to assist them in finding employment, primarily in Iran, Pakistan, India, Europe, or North America; some of these intermediaries force Afghans into labor or prostitution. Afghan women and girls are subjected to sex trafficking and domestic servitude primarily in Pakistan, Iran, and India, including through forced marriages in Iran and Pakistan. Afghan boys and men are subjected to forced labor and debt bondage in agriculture and construction, primarily in Iran, Pakistan, Greece, Turkey, and the Gulf states. Boys, especially those traveling unaccompanied, are particularly vulnerable to trafficking. Some Afghan boys are subjected to sex trafficking in Greece after paying high fees to be smuggled into the country. Reportedly, the Iranian government and the Islamic Revolutionary Guards Corps (IRGC) coerce male Afghan migrants, including boys as young as 12, to fight in Syria in IRGC-organized and commanded militias, by threatening them with arrest and deportation to Afghanistan. The government and armed non-state groups in Afghanistan unlawfully recruit and use children in combat and non-combat roles. Armed non-state groups, mostly the Taliban, but also including other non-state groups like the Islamic State in Khorasan Province (ISIS-K), account for most child recruitment and use. Insurgent groups forcibly recruit and use children as suicide bombers. The Taliban indoctrinate children using religious and military education and teach children to use small arms and deploy improvised explosive devices. Some families receive cash payments or protection in exchange for sending their children to the Taliban-run schools. Children from impoverished and rural areas, particularly those under Taliban control, are especially vulnerable to recruitment. The Afghan Local and National Police and government-supported armed groups use children in combat and non-combat roles, including as personal servants, support staff, and body guards. The Afghan National Army, NDS, and Afghan Border Police also recruit children, although to a lesser extent. There were reports that some members of the Afghan security forces and 67ALBANIAother groups of non-state actors sexually abuse and exploit young girls and boys. There were reports of women and girls from the Philippines, Pakistan, Iran, Tajikistan, Sri Lanka, and China subjected to sex trafficking in Afghanistan. Under the pretense of high-paying employment opportunities, some labor recruiting agencies lure foreign workers to Afghanistan, including from Sri Lanka, Nepal, India, Iran, Pakistan, and Tajikistan; the recruiters subject these migrants to forced labor after arrival.\"}]"
      ]
     },
     "execution_count": 1692,
=======
       "180"
      ]
     },
     "execution_count": 1266,
>>>>>>> c72939d0b8bdef49ef343897f9f724ca46be55ca
     "metadata": {},
     "output_type": "execute_result"
    }
   ],
<<<<<<< HEAD
   "source": [
    "normal_country_dict['AFGHANISTAN']"
   ]
  },
  {
   "cell_type": "code",
   "execution_count": 1701,
   "metadata": {
    "scrolled": true
   },
   "outputs": [],
=======
>>>>>>> c72939d0b8bdef49ef343897f9f724ca46be55ca
   "source": [
    "new_normal_dict = {}\n",
    "for i in normal_countr:\n",
    "    try:\n",
    "        new_normal_dict[i] = portion_data(i)\n",
    "    except:\n",
    "        pass"
   ]
  },
  {
   "cell_type": "code",
<<<<<<< HEAD
   "execution_count": 1699,
   "metadata": {},
   "outputs": [
    {
     "name": "stdout",
     "output_type": "stream",
     "text": [
      "{'AFGHANISTAN': 'As reported over the past five years, Afghanistan is a source, transit, and destination country for men, women, and children subjected to forced labor and sex trafficking. Internal trafficking is more prevalent than transnational trafficking. Men, women, and children are exploited in bonded labor in Afghanistan, where an initial debt assumed by a worker as part of the terms of employment is exploited, ultimately entrapping other family members, sometimes for multiple generations. There are entire Afghan families trapped in debt bondage in the brick-making industry in eastern Afghanistan. Most Afghan trafficking victims are children exploited in carpet making and brick factories, domestic servitude, commercial sex, begging, poppy cultivation, salt mining, transnational drug smuggling, and assistant truck driving within Afghanistan. Some Afghan families knowingly sell their children into sex trafficking, including for bacha bazi, including some government officials and security forces. There are reports that some law enforcement officials, prosecutors, and judges accept bribes from or use their relationships with perpetrators of bacha bazi to allow them to escape punishment. Opium-farming families sometimes sell their children to settle debts with opium traffickers. Children in orphanages overseen by the government, but run by NGOs, were sometimes subjected to trafficking. Members of the Shia Hazara minority group were victims of forced labor. Afghan returnees from Pakistan and Iran and internally displaced Afghans are vulnerable to exploitation in sex trafficking and forced and bonded labor. Men, women, and children in Afghanistan often pay intermediaries to assist them in finding employment, primarily in Iran, Pakistan, India, Europe, or North America; some of these intermediaries force Afghans into labor or prostitution. Afghan women and girls are subjected to sex trafficking and domestic servitude primarily in Pakistan, Iran, and India, including through forced marriages in Iran and Pakistan. Afghan boys and men are subjected to forced labor and debt bondage in agriculture and construction, primarily in Iran, Pakistan, Greece, Turkey, and the Gulf states. Boys, especially those traveling unaccompanied, are particularly vulnerable to trafficking. Some Afghan boys are subjected to sex trafficking in Greece after paying high fees to be smuggled into the country. Reportedly, the Iranian government and the Islamic Revolutionary Guards Corps (IRGC) coerce male Afghan migrants, including boys as young as 12, to fight in Syria in IRGC-organized and commanded militias, by threatening them with arrest and deportation to Afghanistan. The government and armed non-state groups in Afghanistan unlawfully recruit and use children in combat and non-combat roles. Armed non-state groups, mostly the Taliban, but also including other non-state groups like the Islamic State in Khorasan Province (ISIS-K), account for most child recruitment and use. Insurgent groups forcibly recruit and use children as suicide bombers. The Taliban indoctrinate children using religious and military education and teach children to use small arms and deploy improvised explosive devices. Some families receive cash payments or protection in exchange for sending their children to the Taliban-run schools. Children from impoverished and rural areas, particularly those under Taliban control, are especially vulnerable to recruitment. The Afghan Local and National Police and government-supported armed groups use children in combat and non-combat roles, including as personal servants, support staff, and body guards. The Afghan National Army, NDS, and Afghan Border Police also recruit children, although to a lesser extent. There were reports that some members of the Afghan security forces and 67ALBANIAother groups of non-state actors sexually abuse and exploit young girls and boys. There were reports of women and girls from the Philippines, Pakistan, Iran, Tajikistan, Sri Lanka, and China subjected to sex trafficking in Afghanistan. Under the pretense of high-paying employment opportunities, some labor recruiting agencies lure foreign workers to Afghanistan, including from Sri Lanka, Nepal, India, Iran, Pakistan, and Tajikistan; the recruiters subject these migrants to forced labor after arrival.'}\n"
     ]
    }
   ],
   "source": [
    "trafficking_profile = [{a:list(new_normal_dict[a][-1].values())[0]} for a,b in zip(normal_countr, new_normal_dict)]\n",
    "print(trafficking_profile[0])\n"
=======
   "execution_count": 1288,
   "metadata": {},
   "outputs": [],
   "source": [
    "x = countries[:183]  #183\n",
    "new_normal_dict = [{i.upper():portion_data(i.upper())[0]} for i in x]\n"
>>>>>>> c72939d0b8bdef49ef343897f9f724ca46be55ca
   ]
  },
  {
   "cell_type": "code",
   "execution_count": 1700,
   "metadata": {},
   "outputs": [
    {
     "data": {
      "text/plain": [
       "['As reported over the past five years, Afghanistan is a source, transit, and destination country for men, women, and children subjected to forced labor and sex trafficking',\n",
       " ' Internal trafficking is more prevalent than transnational trafficking',\n",
       " ' Men, women, and children are exploited in bonded labor in Afghanistan, where an initial debt assumed by a worker as part of the terms of employment is exploited, ultimately entrapping other family members, sometimes for multiple generations',\n",
       " ' There are entire Afghan families trapped in debt bondage in the brick-making industry in eastern Afghanistan',\n",
       " ' Most Afghan trafficking victims are children exploited in carpet making and brick factories, domestic servitude, commercial sex, begging, poppy cultivation, salt mining, transnational drug smuggling, and assistant truck driving within Afghanistan',\n",
       " ' Some Afghan families knowingly sell their children into sex trafficking, including for bacha bazi, including some government officials and security forces',\n",
       " ' There are reports that some law enforcement officials, prosecutors, and judges accept bribes from or use their relationships with perpetrators of bacha bazi to allow them to escape punishment',\n",
       " ' Opium-farming families sometimes sell their children to settle debts with opium traffickers',\n",
       " ' Children in orphanages overseen by the government, but run by NGOs, were sometimes subjected to trafficking',\n",
       " ' Members of the Shia Hazara minority group were victims of forced labor',\n",
       " ' Afghan returnees from Pakistan and Iran and internally displaced Afghans are vulnerable to exploitation in sex trafficking and forced and bonded labor',\n",
       " ' Men, women, and children in Afghanistan often pay intermediaries to assist them in finding employment, primarily in Iran, Pakistan, India, Europe, or North America; some of these intermediaries force Afghans into labor or prostitution',\n",
       " ' Afghan women and girls are subjected to sex trafficking and domestic servitude primarily in Pakistan, Iran, and India, including through forced marriages in Iran and Pakistan',\n",
       " ' Afghan boys and men are subjected to forced labor and debt bondage in agriculture and construction, primarily in Iran, Pakistan, Greece, Turkey, and the Gulf states',\n",
       " ' Boys, especially those traveling unaccompanied, are particularly vulnerable to trafficking',\n",
       " ' Some Afghan boys are subjected to sex trafficking in Greece after paying high fees to be smuggled into the country',\n",
       " ' Reportedly, the Iranian government and the Islamic Revolutionary Guards Corps (IRGC) coerce male Afghan migrants, including boys as young as 12, to fight in Syria in IRGC-organized and commanded militias, by threatening them with arrest and deportation to Afghanistan',\n",
       " ' The government and armed non-state groups in Afghanistan unlawfully recruit and use children in combat and non-combat roles',\n",
       " ' Armed non-state groups, mostly the Taliban, but also including other non-state groups like the Islamic State in Khorasan Province (ISIS-K), account for most child recruitment and use',\n",
       " ' Insurgent groups forcibly recruit and use children as suicide bombers',\n",
       " ' The Taliban indoctrinate children using religious and military education and teach children to use small arms and deploy improvised explosive devices',\n",
       " ' Some families receive cash payments or protection in exchange for sending their children to the Taliban-run schools',\n",
       " ' Children from impoverished and rural areas, particularly those under Taliban control, are especially vulnerable to recruitment',\n",
       " ' The Afghan Local and National Police and government-supported armed groups use children in combat and non-combat roles, including as personal servants, support staff, and body guards',\n",
       " ' The Afghan National Army, NDS, and Afghan Border Police also recruit children, although to a lesser extent',\n",
       " ' There were reports that some members of the Afghan security forces and 67ALBANIAother groups of non-state actors sexually abuse and exploit young girls and boys',\n",
       " ' There were reports of women and girls from the Philippines, Pakistan, Iran, Tajikistan, Sri Lanka, and China subjected to sex trafficking in Afghanistan',\n",
       " ' Under the pretense of high-paying employment opportunities, some labor recruiting agencies lure foreign workers to Afghanistan, including from Sri Lanka, Nepal, India, Iran, Pakistan, and Tajikistan; the recruiters subject these migrants to forced labor after arrival',\n",
       " '']"
      ]
     },
     "execution_count": 1700,
     "metadata": {},
     "output_type": "execute_result"
    }
   ],
   "source": [
    "af = trafficking_profile[0]\n",
    "af['AFGHANISTAN'].split(\".\")\n"
   ]
  },
  {
   "cell_type": "code",
   "execution_count": null,
   "metadata": {},
   "outputs": [],
   "source": [
    "country_short = [i[:6] for i in countries]\n",
    "gender_class = [\"men\", \"women\", \"boy\", \"girl\", \"child\"]\n",
    "trafficking_type = [\"forced\", \"labor\", \"sex\", \"bondage\"]"
   ]
  },
  {
   "cell_type": "code",
   "execution_count": null,
   "metadata": {},
   "outputs": [],
   "source": [
    "combinations = [[f,s,t] for f in country_short for s in gender_class for t in trafficking_type]\n",
    "combinations"
   ]
  },
  {
   "cell_type": "code",
   "execution_count": null,
   "metadata": {},
   "outputs": [],
   "source": [
    "b = [i for i in text for j in combinations if all(k in i for k in j)]\n"
   ]
  },
  {
   "cell_type": "code",
   "execution_count": null,
   "metadata": {},
   "outputs": [],
   "source": [
    "b"
   ]
  },
  {
   "cell_type": "code",
   "execution_count": 279,
   "metadata": {},
   "outputs": [],
   "source": []
  },
  {
   "cell_type": "code",
   "execution_count": null,
   "metadata": {},
   "outputs": [],
   "source": []
  }
 ],
 "metadata": {
  "kernelspec": {
   "display_name": "Python 3.7.3 64-bit ('base': conda)",
   "language": "python",
   "name": "python37364bitbasecondaf7339001cfe34b54ae1ffacfd6447597"
  }
 },
 "nbformat": 4,
 "nbformat_minor": 2
}
