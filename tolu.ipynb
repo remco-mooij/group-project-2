{
 "cells": [
  {
   "cell_type": "code",
   "execution_count": 301,
   "metadata": {},
   "outputs": [],
   "source": [
    "import pandas as pd\n",
    "import pycountry\n",
    "import PyPDF2 \n",
    "import textract\n",
    "import re"
   ]
  },
  {
   "cell_type": "code",
   "execution_count": 517,
   "metadata": {},
   "outputs": [],
   "source": [
    "# Initialize list sequence to store names of Countries\n",
    "countries = [\n",
    "    'Afghanistan','Albania','Algeria','Angola','Antigua and Barbuda',\n",
    "    'Argentina','Armenia','Aruba','Australia','Austria','Azerbaijan',\n",
    "    'The Bahamas','Bahrain','Bangladesh','Barbados','Belarus','Belgium', \n",
    "    'Belize','Benin','Bhutan','Bolivia','Bosnia and Herzegovina',\n",
    "    'Botswana','Brazil','Brunei','Bulgaria','Burkina Faso','Burma',\n",
    "    'Burundi','Cabo Verde','Cambodia','Cameroon','Canada','Central African Republic',\n",
    "    'Chad','Chile','China','Colombia','Comoros','Congo, Democratic Republic of the',\n",
    "    'Congo, Republic of the','Costa Rica',\"Cote d'Ivoire\",'Croatia','Cuba','Curaçao',\n",
    "    'Cyprus','Czech Republic', 'Denmark','Djibouti', 'Dominican Republic','Ecuador',\n",
    "    'Egypt','El Salvador','Equatorial Guinea', 'Eritrea','Estonia','Eswatini','Ethiopia',\n",
    "    'Fiji', 'Finland', 'France','Gabon','The Gambia','Georgia','Germany','Ghana','Greece',\n",
    "    'Guatemala','Guinea','Guinea-Bissau','Guyana','Haiti','Honduras','Hong Kong','Hungary',\n",
    "    'Iceland','India','Indonesia','Iran','Iraq','Ireland','Israel','Italy','Jamaica','Japan',\n",
    "    'Jordan','Kazakhstan','Kenya',\"Korea, Democratic People's Republic of\",'Korea, Republic of',\n",
    "    'Kosovo','Kuwait','Kyrgyz Republic',\"Laos\",'Latvia','Lebanon','Lesotho','Liberia','Lithuania',\n",
    "    'Luxembourg','Macau','Macedonia','Madagascar','Malawi','Malaysia','Maldives','Mali','Malta',\n",
    "    'Marshall Islands','Mauritania','Mauritius','Mexico','Micronesia, Federated States of',\n",
    "    'Moldova','Mongolia','Montenegro','Morocco','Mozambique','Namibia','Nepal','Netherlands',\n",
    "    'New Zealand','Nicaragua','Niger','Nigeria','Norway','Oman','Pakistan','Palau','Panama',\n",
    "    'Papua Guinea New','Paraguay','Peru','Philippines','Poland','Portugal','Qatar','Romania',\n",
    "    'Russia','Rwanda','St. Lucia','St. Vincent and the Grenadines','Saudi Arabia','Senegal','Serbia',\n",
    "    'Seychelles','Sierra Leone','Singapore','Slovakia','Slovenia','Solomon Islands','South Africa',\n",
    "    'South Sudan','Spain','Sri Lanka','Sudan','Suriname','Sweden','Switzerland','Syria','Taiwan',\n",
    "    'Tajikistan','Tanzania','Thailand','Timor-Leste','Togo','Tonga','Trinidad and Tobago','Tunisia',\n",
    "    'Turkey','Turkmenistan','Uganda','Ukraine','United Arab Emirates','United Kingdom',\n",
    "    'United States of America','Uruguay','Uzbekistan','Venezuela', 'Vietnam','Zambia','Zimbabwe',\n",
    "    'Libya','St. Maarten','Somalia','Yemen' #Libya, St. Marteen, Somalia and Yemen are Special Cases\n",
    "]\n"
   ]
  },
  {
   "cell_type": "code",
   "execution_count": 303,
   "metadata": {},
   "outputs": [
    {
     "data": {
      "text/plain": [
       "187"
      ]
     },
     "execution_count": 303,
     "metadata": {},
     "output_type": "execute_result"
    }
   ],
   "source": [
    "len(countries)"
   ]
  },
  {
   "cell_type": "code",
   "execution_count": 305,
   "metadata": {},
   "outputs": [],
   "source": [
    "# Function to Parse the pdf file\n",
    "def parse_file(filename): \n",
    "    # Read the file.\n",
    "    pdfFileObj = open(filename,'rb')\n",
    "    # The pdfReader variable is the readable object that will be parsed.\n",
    "    pdfReader = PyPDF2.PdfFileReader(pdfFileObj)\n",
    "    #Parse through all the pages.\n",
    "    num_pages = pdfReader.numPages\n",
    "    count = 0\n",
    "    text = \"\"\n",
    "    # The while loop will read each page.\n",
    "    while count < num_pages:\n",
    "        pageObj = pdfReader.getPage(count)\n",
    "        count +=1\n",
    "        text += pageObj.extractText()\n",
    "    # This if statement exists to check if the above library returned words. It's done because PyPDF2 cannot read scanned files.\n",
    "    if text != \"\":\n",
    "        text = text\n",
    "    # If the above returns as False, run the OCR library textract to #convert scanned/image based PDF files into text.\n",
    "    else:\n",
    "        text = textract.process(fileurl, method='tesseract', language='eng')\n",
    "    return text\n",
    "\n",
    "text = parse_file('2018-TIP-Report.pdf')\n",
    "    "
   ]
  },
  {
   "cell_type": "code",
   "execution_count": 306,
   "metadata": {},
   "outputs": [],
   "source": [
    "# Function to Clean the parsed pdf\n",
    "def clean_text(text):\n",
    "    text = text.strip().replace(\"\\n\", \"\").replace(\"˜\", \"fi\").replace(\"˚\", \"ft\").replace(\"Sincerely,iiiiii\",\"\")\\\n",
    "                .replace(\"Trafiick\",\"Traffick\").replace(\"™\", \"'\").replace(\"trafiick\",\"traffick\")\\\n",
    "                .replace('ﬁprevalence rateﬂ','\"prevalence rate\"').replace(\"˚ight\",\"fight\")\\\n",
    "                .replace(\"/\", \"\").replace(\"  REPUBLIC OF THE:\", \" REPUBLIC OF THE:\")\\\n",
    "                .replace(\"DEMOCRATIC PEOPLE'S  REPUBLIC OF\", \"DEMOCRATIC PEOPLE'S REPUBLIC OF\")\\\n",
    "                .replace(\"PAPUA NEW GUINEA:\", \"PAPUA GUINEA NEW:\").replace(\"⁄\", \"\").replace(\"\\\\\",\"\")\\\n",
    "                .replace(\"ST. VINCENT AND  THE GRENADINES\", \"ST. VINCENT AND THE GRENADINES\")\\\n",
    "                .replace(\"UNITED STATES  OF AMERICA\", \"UNITED STATES OF AMERICA\")\\\n",
    "                .replace(\"461SPECIAL CASE: LIBYA\", \" \").replace(\"462SPECIAL CASE: LIBYA\", \" \")\\\n",
    "                .replace(\"463SPECIAL CASE: ST. MAARTEN\", \" \").replace(\"464SPECIAL CASE: SOMALIA\", \" \")\\\n",
    "                .replace(\"465SPECIAL CASE: SOMALIA\", \" \").replace(\"466SPECIAL CASE: YEMEN\", \" \")\\\n",
    "                .replace(\"467SPECIAL CASE: YEMEN\", \" \").replace(\"468SPECIAL CASE: YEMEN\", \" \")\n",
    "    return text \n",
    "\n",
    "cleaned_text = clean_text(text)\n"
   ]
  },
  {
   "cell_type": "code",
   "execution_count": 307,
   "metadata": {},
   "outputs": [
    {
     "data": {
      "text/plain": [
       "187"
      ]
     },
     "execution_count": 307,
     "metadata": {},
     "output_type": "execute_result"
    }
   ],
   "source": [
    "# Function to Extract each country data from text\n",
    "def extract_info(countries_list,text):\n",
    "    # Create list to query info for each country\n",
    "    countries_up = []\n",
    "    for i in countries:\n",
    "        if i in [\"Libya\", 'St. Maarten', 'Somalia', 'Yemen']:\n",
    "            countries_up.append(\"SPECIAL CASE: \"+i.upper())\n",
    "        else: \n",
    "            countries_up.append(i.upper()+\":\")        \n",
    "    new_list = []\n",
    "    a = text.split(countries_up[0])\n",
    "    for i in range(len(countries_up)-1):\n",
    "        a = a[1].split(countries_up[i+1])\n",
    "        new_list.append(a[0])\n",
    "        if i+1 == len(countries_up)-1:\n",
    "            new_list.append(a[1].split(\"469RELEVANT INTERNATIONAL CONVENTIONS\")[0])\n",
    "    return new_list\n",
    "\n",
    "country_info = extract_info(countries,cleaned_text)\n",
    "len(country_info)\n"
   ]
  },
  {
   "cell_type": "code",
   "execution_count": 7,
   "metadata": {
    "scrolled": true
   },
   "outputs": [
    {
     "data": {
      "text/plain": [
       "187"
      ]
     },
     "execution_count": 7,
     "metadata": {},
     "output_type": "execute_result"
    }
   ],
   "source": [
    "# Function to Extract each country data from text\n",
    "def extract_info(countries_list,text):\n",
    "    # Create list to query info for each country\n",
    "    countries_up = []\n",
    "    for i in countries:\n",
    "        if i in [\"Libya\", 'St. Maarten', 'Somalia', 'Yemen']:\n",
    "            countries_up.append(\"SPECIAL CASE: \"+i.upper())\n",
    "        else: \n",
    "            countries_up.append(i.upper()+\":\")\n",
    "    new_list = []\n",
    "    a = text.split(countries_up[0])\n",
    "    for i in range(len(countries_up)-1):\n",
    "        a = a[1].split(countries_up[i+1])\n",
    "        new_list.append(a[0])\n",
    "        if i+1 == len(countries_up)-1:\n",
    "            new_list.append(a[1].split(\"469RELEVANT INTERNATIONAL CONVENTIONS\")[0])\n",
    "    return new_list\n",
    "\n",
    "country_info = extract_info(countries,cleaned_text)\n",
    "len(country_info)\n"
   ]
  },
  {
   "cell_type": "code",
   "execution_count": 308,
   "metadata": {},
   "outputs": [
    {
     "name": "stdout",
     "output_type": "stream",
     "text": [
      "187\n",
      "4\n"
     ]
    }
   ],
   "source": [
    "country_dict = {i.upper():[{j:k}] for i,j,k in zip(countries, [\"INTRO\"]*187, country_info)}\n",
    "special = [s.upper() for s in ['Libya','St. Maarten','Somalia','Yemen']]\n",
    "special_country_dict = {s:country_dict[s] for s in special}\n",
    "print(len(country_dict.values()))\n",
    "print(len(special_country_dict))"
   ]
  },
  {
   "cell_type": "code",
   "execution_count": 585,
   "metadata": {},
   "outputs": [
    {
     "name": "stdout",
     "output_type": "stream",
     "text": [
      "183\n"
     ]
    }
   ],
   "source": [
    "def removekey(d,delete_items):\n",
    "    r = dict(d)\n",
    "    for key in delete_items: \n",
    "        del r[key]\n",
    "    return r\n",
    "\n",
    "normal_country_dict = removekey(country_dict, special)\n",
    "print(len(normal_country_dict.values()))\n",
    "normal_countr = list(normal_country_dict.keys())"
   ]
  },
  {
   "cell_type": "code",
   "execution_count": 311,
   "metadata": {},
   "outputs": [],
   "source": [
    "def append_data(country,i,data):\n",
    "    data[0][\"INTRO\"] = data[0][\"INTRO\"].split(i)[1]\n",
    "    data.append({\"TIER\":i})\n",
    "    intro = data[0][\"INTRO\"].split(f\"RECOMMENDATIONS FOR {country}\")\n",
    "    data[0][\"INTRO\"] = intro[0]\n",
    "    recommend = intro[1].split(\"PROSECUTION\")\n",
    "    data.append({\"RECOMMENDATIONS\":recommend[0]})\n",
    "    prosecute = recommend[1].split(\"PROTECTION\")\n",
    "    data.append({\"PROSECUTIONS\":prosecute[0]})\n",
    "    protect = prosecute[1].split(\"PREVENTION\")\n",
    "    data.append({\"PROTECTION\":protect[0]})\n",
    "    prevent = protect[1].split(\"TRAFFICKING PROFILE\")\n",
    "    data.append({\"PREVENTION\":prevent[0]})\n",
    "    data.append({\"TRAFFICKING PROFILE\":prevent[1]})\n",
    "    return data"
   ]
  },
  {
   "cell_type": "code",
   "execution_count": 310,
   "metadata": {},
   "outputs": [],
   "source": [
    "def portion_data(country):\n",
    "    data = normal_country_dict[country]\n",
    "    tier = [\"TIER 1\", \"TIER 2\", \"TIER 3\"]\n",
    "    for i in tier:\n",
    "        length = len(data[0][\"INTRO\"].split(i))       \n",
    "        if \"TIER 2 WATCH LIST\" in data[0][\"INTRO\"]:\n",
    "            i = \"TIER 2 WATCH LIST\"\n",
    "            append_data(country,i,data)\n",
    "        elif length == 2 and \"TIER 2 WATCH LIST\" not in data[0][\"INTRO\"]: \n",
    "            append_data(country,i,data)            \n",
    "    return data,country_dict\n"
   ]
  },
  {
   "cell_type": "code",
   "execution_count": 314,
   "metadata": {},
   "outputs": [],
   "source": [
    "x = countries[:183]  #183\n",
    "new_normal_dict = [{i.upper():portion_data(i.upper())[0]} for i in x]\n"
   ]
  },
  {
   "cell_type": "code",
   "execution_count": 555,
   "metadata": {},
   "outputs": [],
   "source": [
    "def get_country_special(country):\n",
    "    new_special = []\n",
    "    intro = special_country_dict[country][0][\"INTRO\"].split(\"GOVERNMENT EFFORTS\")\n",
    "    new_special.append({\"INTRO\":intro[0]})\n",
    "    new_special.append({\"TIER\": \"SPECIAL CASE\"})\n",
    "    traffick = intro[1].split(\"TRAFFICKING PROFILE\")\n",
    "    new_special.append({\"GOVERNMENT EFFORTS\":traffick[0]})\n",
    "    new_special.append({\"TRAFFICKING PROFILE\":traffick[1]})\n",
    "    return new_special\n"
   ]
  },
  {
   "cell_type": "code",
   "execution_count": 569,
   "metadata": {},
   "outputs": [],
   "source": [
    "special = [i.upper() for i in [\"Libya\", 'St. Maarten', 'Somalia', 'Yemen']]\n",
    "new_special_dict = [{i:get_country_special(i)} for i in special]"
   ]
  },
  {
   "cell_type": "code",
   "execution_count": 562,
   "metadata": {},
   "outputs": [],
   "source": [
    "def get_traffic_profile(country_list,country_dict):\n",
    "    return [{a:list(country_dict[country_list.index(a)][a][-1].values())[0]} for a,b in zip(country_list, country_dict)]\n"
   ]
  },
  {
   "cell_type": "code",
   "execution_count": 575,
   "metadata": {},
   "outputs": [],
   "source": [
    "normal_trafficking_profile = get_traffic_profile(normal_countr,new_normal_dict)\n",
    "special_trafficking_profile = get_traffic_profile(special,new_special_dict)\n"
   ]
  },
  {
   "cell_type": "code",
   "execution_count": 581,
   "metadata": {},
   "outputs": [],
   "source": [
    "special_trafficking_profile = get_traffic_profile(special,new_special_dict)\n",
    "trafficking_profile = normal_trafficking_profile.copy()\n",
    "trafficking_profile.extend(special_trafficking_profile)\n"
   ]
  },
  {
   "cell_type": "code",
   "execution_count": 589,
   "metadata": {},
   "outputs": [],
   "source": [
    "new_normal_countr = normal_countr.copy()\n",
    "new_normal_countr.extend(special)\n"
   ]
  },
  {
   "cell_type": "code",
   "execution_count": 565,
   "metadata": {},
   "outputs": [],
   "source": [
    "changed_countries = [\n",
    "    'Afghanistan','Albania','Algeria','Angola','Antigua and Barbuda',\n",
    "    'Argentina','Armenia','Aruba','Australia','Austria','Azerbaijan',\n",
    "    'The Bahamas','Bahrain','Bangladesh','Barbados','Belarus','Belgium', \n",
    "    'Belize','Benin','Bhutan','Bolivia','Bosnia and Herzegovina',\n",
    "    'Botswana','Brazil','Brunei','Bulgaria','Burkina Faso','Burma',\n",
    "    'Burundi','Cabo Verde','Cambodia','Cameroon','Canada','Central African Republic',\n",
    "    'Chad','Chile','China','Colombia','Comoros','Democratic',\n",
    "    'Republic of The Congo','Costa Rica',\"Cote d'Ivoire\",'Croatia','Cuba','Curaçao',\n",
    "    'Cyprus','Czech Republic', 'Denmark','Djibouti', 'Dominican Republic','Ecuador',\n",
    "    'Egypt','El Salvador','Equatorial Guinea', 'Eritrea','Estonia','Eswatini','Ethiopia',\n",
    "    'Fiji', 'Finland', 'France','Gabon','The Gambia','Georgia','Germany','Ghana','Greece',\n",
    "    'Guatemala','Guinea','Guinea-Bissau','Guyana','Haiti','Honduras','Hong Kong','Hungary',\n",
    "    'Iceland','India','Indonesia','Iran','Iraq','Ireland','Israel','Italy','Jamaica','Japan',\n",
    "    'Jordan','Kazakhstan','Kenya',\"North Korea\",'South Korea',\n",
    "    'Kosovo','Kuwait','Kyrgyz Republic',\"Laos\",'Latvia','Lebanon','Lesotho','Liberia','Lithuania',\n",
    "    'Luxembourg','Macau','Macedonia','Madagascar','Malawi','Malaysia','Maldives','Mali','Malta',\n",
    "    'Marshall Islands','Mauritania','Mauritius','Mexico','Micronesia','Moldova','Mongolia',\n",
    "    'Montenegro','Morocco','Mozambique','Namibia','Nepal','Netherlands','New Zealand','Nicaragua',\n",
    "    'Niger','Nigeria','Norway','Oman','Pakistan','Palau','Panama','Papua Guinea New','Paraguay',\n",
    "    'Peru','Philippines','Poland','Portugal','Qatar','Romania','Russia','Rwanda','St. Lucia',\n",
    "    'St. Vincent and the Grenadines','Saudi Arabia','Senegal','Serbia','Seychelles','Sierra Leone',\n",
    "    'Singapore','Slovakia','Slovenia','Solomon Islands','South Africa','South Sudan','Spain',\n",
    "    'Sri Lanka','Sudan','Suriname','Sweden','Switzerland','Syria','Taiwan','Tajikistan','Tanzania',\n",
    "    'Thailand','Timor-Leste','Togo','Tonga','Trinidad and Tobago','Tunisia','Turkey','Turkmenistan',\n",
    "    'Uganda','Ukraine','United Arab Emirates','United Kingdom','United States','Uruguay',\n",
    "    'Uzbekistan','Venezuela', 'Vietnam','Zambia','Zimbabwe','Libya','St. Maarten','Somalia','Yemen' \n",
    "    #Libya, St. Marteen, Somalia and Yemen are Special Cases\n",
    "]\n"
   ]
  },
  {
   "cell_type": "code",
   "execution_count": 596,
   "metadata": {},
   "outputs": [],
   "source": [
    "def get_dataframe(countries,country_list,trafficking_profile):\n",
    "    x = 0\n",
    "    j = {\n",
    "        \"Base Country\":[],\n",
    "        \"Relation Country\":[],\n",
    "        \"Men\": [],\n",
    "        \"Women\":[],\n",
    "        \"Children\":[],\n",
    "        \"Sex Trafficking\":[],\n",
    "        \"Forced Labor\":[],\n",
    "        \"Debt Bondage\":[],\n",
    "        \"Description\":[]\n",
    "        }\n",
    "    for country in country_list:\n",
    "        a = list(trafficking_profile[x].values())[0].split(\".\")\n",
    "        a = a[:len(a)-1]\n",
    "        strip_country = countries.copy()\n",
    "        d = strip_country.pop(country_list.index(country))   \n",
    "        for b in a:\n",
    "            for i in strip_country:\n",
    "                if i in b:\n",
    "                    if \"men\" in b or \"women\" in b or \"boy\" in b or \"girl\" in b or \"child\" in b or \"Men\" in b or \"Women\" in b or \"Boy\" in b or \"Girl\" in b or \"Child\" in b:\n",
    "                        j[\"Relation Country\"].append(i)\n",
    "                        j[\"Base Country\"].append(d)\n",
    "                        j[\"Description\"].append(b)\n",
    "                        if \"women\" in b or \"Women\" in b:\n",
    "                            j[\"Women\"].append(1)\n",
    "                        else:\n",
    "                            j[\"Women\"].append(0)\n",
    "                        if \"men\" in b or \"Men\" in b and \"women\" not in b and \"Women\" not in b:\n",
    "                            j[\"Men\"].append(1)\n",
    "                        else:\n",
    "                            j[\"Men\"].append(0)\n",
    "                        if \"boy\" in b or \"girl\" in b or \"child\" in b or \"Boy\" in b or \"Girl\" in b or \"Child\" in b:\n",
    "                            j[\"Children\"].append(1)\n",
    "                        else:\n",
    "                            j[\"Children\"].append(0)\n",
    "                        if \"debt\" in b or \"Debt\" in b:\n",
    "                            j[\"Debt Bondage\"].append(1)\n",
    "                        else:\n",
    "                            j[\"Debt Bondage\"].append(0)\n",
    "                        if \"sex\" in b or \"Sex\" in b:\n",
    "                            j[\"Sex Trafficking\"].append(1)\n",
    "                        else:\n",
    "                            j[\"Sex Trafficking\"].append(0)\n",
    "                        if \"force\" in b or \"Forced\" in b:\n",
    "                            j[\"Forced Labor\"].append(1)\n",
    "                        else:\n",
    "                            j[\"Forced Labor\"].append(0)\n",
    "        x += 1\n",
    "    df = pd.DataFrame.from_dict(j, orient='index').transpose()\n",
    "    return df              \n"
   ]
  },
  {
   "cell_type": "code",
   "execution_count": 598,
   "metadata": {},
   "outputs": [],
   "source": [
    "a = get_dataframe(changed_countries,new_normal_countr,trafficking_profile)"
   ]
  },
  {
   "cell_type": "code",
   "execution_count": null,
   "metadata": {},
   "outputs": [],
   "source": [
    "a"
   ]
  },
  {
   "cell_type": "code",
   "execution_count": null,
   "metadata": {},
   "outputs": [],
   "source": []
  },
  {
   "cell_type": "code",
   "execution_count": null,
   "metadata": {},
   "outputs": [],
   "source": []
  }
 ],
 "metadata": {
  "kernelspec": {
   "display_name": "Python 3.7.3 64-bit ('base': conda)",
   "language": "python",
   "name": "python37364bitbasecondaf7339001cfe34b54ae1ffacfd6447597"
  },
  "language_info": {
   "codemirror_mode": {
    "name": "ipython",
    "version": 3
   },
   "file_extension": ".py",
   "mimetype": "text/x-python",
   "name": "python",
   "nbconvert_exporter": "python",
   "pygments_lexer": "ipython3",
   "version": "3.7.3"
  }
 },
 "nbformat": 4,
 "nbformat_minor": 2
}
